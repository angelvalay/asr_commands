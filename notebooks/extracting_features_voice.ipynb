{
 "cells": [
  {
   "cell_type": "code",
   "execution_count": 1,
   "metadata": {
    "pycharm": {
     "is_executing": false
    }
   },
   "outputs": [],
   "source": [
    "import librosa\n",
    "import pandas as pd\n",
    "import numpy as np\n",
    "import matplotlib.pyplot as plt\n",
    "import os\n",
    "# from PIL import Image\n",
    "import pathlib\n",
    "import csv"
   ]
  },
  {
   "cell_type": "code",
   "execution_count": 2,
   "metadata": {
    "pycharm": {
     "is_executing": false,
     "name": "#%%\n"
    }
   },
   "outputs": [],
   "source": [
    "header = 'filename chroma_stft spectral_centroid spectral_bandwidth rolloff zero_crossing_rate'\n",
    "for i in range(1, 21):\n",
    "    header += f' mfcc{i}'\n",
    "header += ' label'\n",
    "header = header.split()\n",
    "\n",
    "file = open('../data/features_voice.csv','w',newline='')\n",
    "with file:\n",
    "    writer = csv.writer(file)\n",
    "    writer.writerow(header)"
   ]
  },
  {
   "cell_type": "code",
   "execution_count": 3,
   "metadata": {
    "pycharm": {
     "is_executing": false,
     "name": "#%%\n"
    }
   },
   "outputs": [],
   "source": [
    "commands ='avanza derecha detente gira izquierda'.split()\n",
    "for c in commands:\n",
    "    for filename in os.listdir(f'../data/dataset/commands/{c}'):\n",
    "        if filename.endswith(\".wav\"):\n",
    "            songname=f'../data/dataset/commands/{c}/{filename}'\n",
    "    #         print(songname)\n",
    "            data, sr =librosa.load(songname)\n",
    "            chroma_stft= librosa.feature.chroma_stft(y=data, sr=sr)\n",
    "            spec_cent=librosa.feature.spectral_centroid(y=data, sr=sr)\n",
    "            spec_bw=librosa.feature.spectral_bandwidth(y=data, sr=sr)\n",
    "            rolloff=librosa.feature.spectral_rolloff(y=data,sr=sr)\n",
    "            zcr=librosa.feature.zero_crossing_rate(data)\n",
    "            mfcc=librosa.feature.mfcc(y=data,sr=sr)\n",
    "            to_append=f'{filename} {np.mean(chroma_stft)} {np.mean(spec_cent)} {np.mean(spec_bw)} {np.mean(rolloff)} {np.mean(zcr)}'\n",
    "            for e in mfcc:\n",
    "                to_append += f' {np.mean(e)}'\n",
    "            to_append +=f' {c}'\n",
    "            file = open('../data/features_voice.csv','a',newline='')\n",
    "            with file:\n",
    "                writer= csv.writer(file)\n",
    "                writer.writerow(to_append.split())"
   ]
  },
  {
   "cell_type": "code",
   "execution_count": 3,
   "metadata": {
    "pycharm": {
     "is_executing": false
    }
   },
   "outputs": [],
   "source": []
  }
 ],
 "metadata": {
  "kernelspec": {
   "display_name": "Python 3",
   "language": "python",
   "name": "python3"
  },
  "language_info": {
   "codemirror_mode": {
    "name": "ipython",
    "version": 3
   },
   "file_extension": ".py",
   "mimetype": "text/x-python",
   "name": "python",
   "nbconvert_exporter": "python",
   "pygments_lexer": "ipython3",
   "version": "3.6.8"
  },
  "pycharm": {
   "stem_cell": {
    "cell_type": "raw",
    "metadata": {
     "collapsed": false
    },
    "source": []
   }
  }
 },
 "nbformat": 4,
 "nbformat_minor": 1
}