{
 "cells": [
  {
   "cell_type": "markdown",
   "metadata": {},
   "source": [
    "# Loading data"
   ]
  },
  {
   "cell_type": "code",
   "execution_count": 59,
   "metadata": {
    "collapsed": true,
    "pycharm": {
     "is_executing": false
    }
   },
   "outputs": [],
   "source": [
    "#prepare data\n",
    "import pandas as pd\n",
    "import numpy as np\n",
    "from matplotlib.colors import ListedColormap\n",
    "from sklearn.datasets import make_blobs\n",
    "from sklearn.preprocessing import StandardScaler, LabelEncoder\n",
    "from sklearn import datasets\n",
    "from sklearn.model_selection import train_test_split\n",
    "import matplotlib.pyplot as plt\n",
    "#load data\n",
    "from sklearn.svm import SVC\n",
    "data_features = pd.read_csv('../data/features_voice.csv', thousands=' ')\n",
    "# Dropping unneccesary columns\n",
    "data_features = data_features.drop(['filename'],axis=1)"
   ]
  },
  {
   "cell_type": "markdown",
   "metadata": {
    "pycharm": {
     "name": "#%% md\n"
    }
   },
   "source": [
    "# Dividing data into training and Testing set"
   ]
  },
  {
   "cell_type": "code",
   "execution_count": 60,
   "metadata": {
    "pycharm": {
     "is_executing": false,
     "name": "#%%\n"
    }
   },
   "outputs": [
    {
     "name": "stdout",
     "text": [
      "      chroma_stft  spectral_centroid  spectral_bandwidth      rolloff  \\\n",
      "0        0.561047        1216.076584         1906.471303  2887.243652   \n",
      "1        0.395306        1983.098260         1822.039604  3750.260656   \n",
      "2        0.552942        1674.140499         1978.852766  3797.674006   \n",
      "3        0.563875        1242.391957         1854.850881  2550.761719   \n",
      "4        0.240719        1965.831858         1970.560459  3531.859413   \n",
      "...           ...                ...                 ...          ...   \n",
      "1995     0.229706        2294.370268         2179.180387  4479.675293   \n",
      "1996     0.508613        1393.119457         1820.942231  2847.883142   \n",
      "1997     0.385498        2453.669717         2066.092839  4376.857592   \n",
      "1998     0.261117        2145.111511         2083.967342  4066.805294   \n",
      "1999     0.280005        2193.184858         2053.951109  4121.685791   \n",
      "\n",
      "      zero_crossing_rate       mfcc1       mfcc2      mfcc3      mfcc4  \\\n",
      "0               0.033928 -304.606567  105.816933  25.773632  41.385117   \n",
      "1               0.118997 -167.530045  131.462982 -21.487537  35.344666   \n",
      "2               0.066895 -254.996353  104.275185  -0.332176  46.231598   \n",
      "3               0.034505 -287.443970  110.703461  22.979244  43.234928   \n",
      "4               0.091196 -266.288086  113.028061   4.333920  30.092987   \n",
      "...                  ...         ...         ...        ...        ...   \n",
      "1995            0.108922 -204.300247   93.626022  10.585216  52.835350   \n",
      "1996            0.052376 -290.466614  102.283882  25.700142  57.010250   \n",
      "1997            0.129671 -121.538246   94.936012   2.577258  67.696838   \n",
      "1998            0.101529 -253.981628   83.143860  15.394386  62.139961   \n",
      "1999            0.112758 -240.394913   89.573341  10.198009  60.708443   \n",
      "\n",
      "          mfcc5  ...    mfcc11     mfcc12     mfcc13     mfcc14    mfcc15  \\\n",
      "0      0.258171  ...  7.023519   7.865949   0.690734   2.128718  0.424056   \n",
      "1    -24.315830  ...  8.795656  10.115635  -9.641479   5.068021 -3.818474   \n",
      "2     -9.514655  ...  8.408575   1.755489   0.726691   2.915375 -2.892290   \n",
      "3     -0.471837  ...  7.768120   5.450295   0.284010   1.791565 -0.510627   \n",
      "4     -6.586162  ... -1.021014  -4.190058  12.055159   2.667932  3.117420   \n",
      "...         ...  ...       ...        ...        ...        ...       ...   \n",
      "1995 -16.502497  ... -4.999066 -10.246474   6.142311   6.498532 -3.444548   \n",
      "1996   2.880579  ...  6.658195   2.140767  -0.215772   1.209872 -0.188169   \n",
      "1997  -0.837127  ...  5.855656 -13.154296   9.613369 -14.950043  3.358920   \n",
      "1998  -9.905942  ...  0.656324  -4.035791   2.050739  10.860521 -0.243627   \n",
      "1999 -14.331033  ... -2.051711  -3.950930   1.802228   7.952224 -0.789222   \n",
      "\n",
      "         mfcc16     mfcc17     mfcc18    mfcc19    mfcc20  \n",
      "0      1.543995   0.921534   4.874877  0.362699  2.506349  \n",
      "1      6.461788  -3.762234  -6.758687  5.595471 -2.116474  \n",
      "2      2.885929   1.222997   5.095343 -0.641144  1.898718  \n",
      "3      2.871432   0.893678   3.737510  2.009848  2.424776  \n",
      "4      9.741912  -5.509915  11.676921 -4.757508 -0.882551  \n",
      "...         ...        ...        ...       ...       ...  \n",
      "1995  -2.261685  -1.532681  -2.270315 -8.873508  0.397350  \n",
      "1996   0.524411  -3.379868   3.053800  2.550500  0.118513  \n",
      "1997  10.562180 -11.847089   2.187909  2.496081 -5.042043  \n",
      "1998  -2.907357   3.465798  -2.948642 -2.542845  2.092971  \n",
      "1999  -0.643388  -0.254479  -2.431629 -4.959452  0.488585  \n",
      "\n",
      "[2000 rows x 25 columns]\n",
      "0          avanza\n",
      "1          avanza\n",
      "2          avanza\n",
      "3          avanza\n",
      "4          avanza\n",
      "          ...    \n",
      "1995    izquierda\n",
      "1996    izquierda\n",
      "1997    izquierda\n",
      "1998    izquierda\n",
      "1999    izquierda\n",
      "Name: label, Length: 2000, dtype: object\n"
     ],
     "output_type": "stream"
    }
   ],
   "source": [
    "X=data_features.drop('label',axis=1)\n",
    "print(X)\n",
    "y=data_features['label']\n",
    "print(y)"
   ]
  },
  {
   "cell_type": "code",
   "execution_count": 61,
   "outputs": [],
   "source": [
    "from sklearn.model_selection import train_test_split\n",
    "X_train, X_test, y_train, y_test=train_test_split(X,y,test_size=0.2)"
   ],
   "metadata": {
    "collapsed": false,
    "pycharm": {
     "name": "#%%\n",
     "is_executing": false
    }
   }
  },
  {
   "cell_type": "markdown",
   "metadata": {
    "pycharm": {
     "name": "#%% md\n"
    }
   },
   "source": [
    "# Fitting"
   ]
  },
  {
   "cell_type": "code",
   "execution_count": 62,
   "metadata": {
    "pycharm": {
     "is_executing": false,
     "name": "#%%\n"
    }
   },
   "outputs": [
    {
     "data": {
      "text/plain": "SVC(C=1.0, break_ties=False, cache_size=200, class_weight=None, coef0=0.0,\n    decision_function_shape='ovr', degree=3, gamma='scale', kernel='linear',\n    max_iter=-1, probability=False, random_state=None, shrinking=True,\n    tol=0.001, verbose=False)"
     },
     "metadata": {},
     "output_type": "execute_result",
     "execution_count": 62
    }
   ],
   "source": [
    "svm = SVC(kernel='linear')\n",
    "svm.fit(X_train, y_train)"
   ]
  },
  {
   "cell_type": "code",
   "execution_count": 63,
   "metadata": {
    "pycharm": {
     "is_executing": false,
     "name": "#%%\n"
    }
   },
   "outputs": [
    {
     "name": "stdout",
     "text": [
      "0.9425\n"
     ],
     "output_type": "stream"
    }
   ],
   "source": [
    "from sklearn.metrics import accuracy_score\n",
    "y_pred=svm.predict(X_test)\n",
    "print(accuracy_score(y_test, y_pred))"
   ]
  },
  {
   "cell_type": "code",
   "execution_count": 64,
   "metadata": {
    "pycharm": {
     "is_executing": false,
     "name": "#%%\n"
    }
   },
   "outputs": [
    {
     "name": "stdout",
     "text": [
      "[[89  0  0  0  0]\n",
      " [ 0 66  2  0  0]\n",
      " [ 0  3 83  1  0]\n",
      " [ 1  7  2 68  3]\n",
      " [ 0  2  0  2 71]]\n",
      "              precision    recall  f1-score   support\n",
      "\n",
      "      avanza       0.99      1.00      0.99        89\n",
      "     derecha       0.85      0.97      0.90        68\n",
      "     detente       0.95      0.95      0.95        87\n",
      "        gira       0.96      0.84      0.89        81\n",
      "   izquierda       0.96      0.95      0.95        75\n",
      "\n",
      "    accuracy                           0.94       400\n",
      "   macro avg       0.94      0.94      0.94       400\n",
      "weighted avg       0.95      0.94      0.94       400\n",
      "\n"
     ],
     "output_type": "stream"
    }
   ],
   "source": [
    "from sklearn.metrics import classification_report, confusion_matrix\n",
    "print(confusion_matrix(y_test,y_pred))\n",
    "print(classification_report(y_test,y_pred))"
   ]
  },
  {
   "cell_type": "code",
   "execution_count": 65,
   "outputs": [],
   "source": [
    "from sklearn.externals import joblib\n",
    "joblib.dump(svm, \"../models/my_model_2.pkl\") # save\n",
    "my_model_loaded = joblib.load(\"../models/my_model_2.pkl\") # load"
   ],
   "metadata": {
    "collapsed": false,
    "pycharm": {
     "name": "#%%\n",
     "is_executing": false
    }
   }
  }
 ],
 "metadata": {
  "kernelspec": {
   "display_name": "Python 3",
   "language": "python",
   "name": "python3"
  },
  "language_info": {
   "codemirror_mode": {
    "name": "ipython",
    "version": 3
   },
   "file_extension": ".py",
   "mimetype": "text/x-python",
   "name": "python",
   "nbconvert_exporter": "python",
   "pygments_lexer": "ipython3",
   "version": "3.6.8"
  },
  "pycharm": {
   "stem_cell": {
    "cell_type": "raw",
    "source": [],
    "metadata": {
     "collapsed": false
    }
   }
  }
 },
 "nbformat": 4,
 "nbformat_minor": 1
}